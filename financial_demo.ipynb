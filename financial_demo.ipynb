{
 "cells": [
  {
   "cell_type": "code",
   "execution_count": 1,
   "metadata": {
    "collapsed": true
   },
   "outputs": [],
   "source": [
    "import numpy as np\n",
    "import pandas as pd\n",
    "import matplotlib.pyplot as plt\n",
    "from lxml import html\n",
    "import requests\n",
    "from bs4 import BeautifulSoup\n",
    "import pandas_datareader.data as web\n",
    "import os\n",
    "import sklearn\n",
    "import sklearn.preprocessing\n",
    "import sklearn.model_selection\n",
    "from sklearn.linear_model import LogisticRegression\n",
    "from sklearn.ensemble import RandomForestClassifier\n",
    "import datetime as datetime"
   ]
  },
  {
   "cell_type": "code",
   "execution_count": 2,
   "metadata": {
    "collapsed": true
   },
   "outputs": [],
   "source": [
    "start=pd.to_datetime('1-1-2010')\n",
    "end=pd.to_datetime(datetime.date.today())\n",
    "stock=web.DataReader('MMM', 'google', start, end)"
   ]
  },
  {
   "cell_type": "code",
   "execution_count": 3,
   "metadata": {
    "collapsed": true
   },
   "outputs": [],
   "source": [
    "stock['Change'] = (stock['Close'] - stock['Open']) / stock['Open']\n",
    "stock['Fluct'] = ((stock['High'] - stock['Low']) / stock['Open']) - stock['Change']\n",
    "stock['Vol_Fluct'] = (stock['Volume'] - np.mean(stock['Volume'])) / np.mean(stock['Volume'])"
   ]
  },
  {
   "cell_type": "code",
   "execution_count": 16,
   "metadata": {
    "collapsed": false
   },
   "outputs": [],
   "source": [
    "expected_return=[]\n",
    "lose_occurrences=[]\n",
    "win_occurrences=[]\n",
    "lose_counter=0\n",
    "win_counter=0\n",
    "buy_date=14 #default 14\n",
    "sell_date=21 #default 21 or 22 (using 21)\n",
    "measured_value='Vol_Fluct'\n",
    "i=0\n",
    "while i<(len(stock['Close'])-30):\n",
    "    if (stock['Close'][i + 4] > stock['Close'][i]) and (stock['Close'][i + 5] < stock['Close'][i + 1]) \\\n",
    "            and (stock['Close'][i + 13] < stock['Close'][i + 5]):\n",
    "        if (stock['Close'][i + sell_date] - stock['Close'][i + buy_date]) < 0:\n",
    "            lose_occurrences.insert(lose_counter, stock[measured_value][i:i + 25])\n",
    "            lose_counter += 1\n",
    "        if (stock['Close'][i + sell_date] - stock['Close'][i + buy_date]) > 0:\n",
    "            win_occurrences.insert(win_counter, stock[measured_value][i:i + 25])\n",
    "            win_counter += 1\n",
    "        i+=20\n",
    "        expected_return.append(stock['Close'][i + sell_date] - stock['Close'][i + buy_date])\n",
    "    else:\n",
    "        i+=1"
   ]
  },
  {
   "cell_type": "code",
   "execution_count": 18,
   "metadata": {
    "collapsed": false
   },
   "outputs": [
    {
     "name": "stdout",
     "output_type": "stream",
     "text": [
      "0.855333333333\n",
      "45\n"
     ]
    },
    {
     "data": {
      "image/png": "[encoded data removed]",
      "text/plain": [
       "<matplotlib.figure.Figure at 0x7f2df2976f28>"
      ]
     },
     "metadata": {},
     "output_type": "display_data"
    }
   ],
   "source": [
    "print(np.mean(expected_return))\n",
    "print(len(expected_return))\n",
    "plt.plot(np.mean(lose_occurrences,axis=0), label='lose')\n",
    "plt.plot(np.mean(win_occurrences, axis=0), label='win')\n",
    "plt.title(measured_value)\n",
    "plt.legend()\n",
    "plt.show()"
   ]
  },
  {
   "cell_type": "code",
   "execution_count": 19,
   "metadata": {
    "collapsed": true
   },
   "outputs": [],
   "source": [
    "ten_day_average = list(np.zeros(50))\n",
    "ten_day_average_volume = list(np.zeros(50))\n",
    "ten_day_std = list(np.zeros(50))\n",
    "ten_day_std_volume = list(np.zeros(50))\n",
    "ten_day_average_fluct = list(np.zeros(50))\n",
    "forty_day_average = list(np.zeros(50))\n",
    "forty_day_average_volume = list(np.zeros(50))\n",
    "forty_day_std = list(np.zeros(50))\n",
    "forty_day_std_volume = list(np.zeros(50))\n",
    "forty_day_average_fluct = list(np.zeros(50))\n",
    "for j in range(50, len(stock['Change'])):\n",
    "    ten_day_average.append(np.mean(stock['Close'][j - 10:j]))\n",
    "    ten_day_average_fluct.append(np.mean(stock['Fluct'][j - 10:j]))\n",
    "    forty_day_average.append(np.mean(stock['Close'][j - 40:j]))\n",
    "    forty_day_average_fluct.append(np.mean(stock['Fluct'][j - 40:j]))\n",
    "    ten_day_average_volume.append(np.mean(stock['Volume'][j - 10:j]))\n",
    "    forty_day_average_volume.append(np.mean(stock['Volume'][j - 40:j]))\n",
    "\n",
    "stock['10_day_av'] = ten_day_average\n",
    "stock['40_day_av'] = forty_day_average\n",
    "stock['10_day_fluct_av'] = ten_day_average_fluct\n",
    "stock['40_day_fluct_av'] = forty_day_average_fluct\n",
    "stock['10_day_av_vol'] = ten_day_average_volume\n",
    "stock['40_day_av_vol'] = forty_day_average_volume\n",
    "\n",
    "for j in range(50, len(stock['Change'])):\n",
    "    ten_day_std.append(np.std(stock['Close'][j-10:j])/stock['10_day_av'][j])\n",
    "    forty_day_std.append(np.std(stock['Close'][j-40:j])/stock['40_day_av'][j])\n",
    "    ten_day_std_volume.append(np.std(stock['Volume'][j - 10:j]) / stock['10_day_av_vol'][j])\n",
    "    forty_day_std_volume.append(np.std(stock['Volume'][j - 40:j]) / stock['40_day_av_vol'][j])\n",
    "\n",
    "stock['10_day_std'] = ten_day_std\n",
    "stock['40_day_std'] = forty_day_std\n",
    "stock['10_day_std_vol'] = ten_day_std_volume\n",
    "stock['40_day_std_vol'] = forty_day_std_volume\n",
    "stock['10_day_change'] = (stock['Close']-stock['10_day_av'])/stock['10_day_av']\n",
    "stock['40_day_change'] = (stock['Close']-stock['40_day_av'])/stock['40_day_av']\n",
    "stock['10_day_change_vol'] = (stock['Volume'] - stock['10_day_av_vol']) / stock['10_day_av_vol']\n",
    "stock['40_day_change_vol'] = (stock['Volume'] - stock['40_day_av_vol']) / stock['40_day_av_vol']"
   ]
  },
  {
   "cell_type": "code",
   "execution_count": 26,
   "metadata": {
    "collapsed": false
   },
   "outputs": [],
   "source": [
    "stock_features=[]\n",
    "i = 50\n",
    "while i < (len(stock['Close']) - 50):\n",
    "    # this if statement contains the reverse td_sequential, the correct one is below.\n",
    "    # if (stock['Close'][i + 4] < stock['Close'][i]) and (stock['Close'][i + 5] > stock['Close'][i + 1]) \\\n",
    "    # and (stock['Close'][i + 13] < stock['Close'][i + 5]):\n",
    "    add_values = []\n",
    "    if (stock['Close'][i + 4] > stock['Close'][i]) and (stock['Close'][i + 5] < stock['Close'][i + 1]) \\\n",
    "            and (stock['Close'][i + 13] < stock['Close'][i + 5]):\n",
    "        day_to_learn = i\n",
    "        add_values.append(stock['10_day_std'][day_to_learn])\n",
    "        add_values.append(stock['40_day_std'][day_to_learn])\n",
    "        add_values.append(stock['10_day_std_vol'][day_to_learn])\n",
    "        add_values.append(stock['40_day_std_vol'][day_to_learn])\n",
    "        add_values.append(stock['10_day_change'][day_to_learn])\n",
    "        add_values.append(stock['40_day_change'][day_to_learn])\n",
    "        add_values.append(stock['10_day_change_vol'][day_to_learn])\n",
    "        add_values.append(stock['40_day_change_vol'][day_to_learn])\n",
    "        add_values.append(stock['10_day_fluct_av'][day_to_learn])\n",
    "        add_values.append(stock['40_day_fluct_av'][day_to_learn])\n",
    "        add_values.append(stock['Close'][i + sell_date] - stock['Close'][i + buy_date])\n",
    "        # if (stock['Close'][i + sell_date] - stock['Close'][i + buy_date]) < 0:\n",
    "        # add_values.append(0)\n",
    "        # if (stock['Close'][i + sell_date] - stock['Close'][i + buy_date]) > 0:\n",
    "        # add_values.append(1)\n",
    "        i += 20\n",
    "        stock_features.append(add_values)\n",
    "    else:\n",
    "        i += 1"
   ]
  },
  {
   "cell_type": "code",
   "execution_count": 27,
   "metadata": {
    "collapsed": false
   },
   "outputs": [
    {
     "name": "stdout",
     "output_type": "stream",
     "text": [
      "1.0\n",
      "0.692307692308\n"
     ]
    }
   ],
   "source": [
    "stock_features=np.array(stock_features)\n",
    "stock_features[:, 10]=stock_features[:, 10]>0\n",
    "model=RandomForestClassifier(100, oob_score=True, n_jobs=-1)\n",
    "train, test=sklearn.model_selection.train_test_split(stock_features, test_size=.3, \\\n",
    "                                                     stratify=stock_features[:, 10])\n",
    "\n",
    "fit=model.fit(train[:,0:10], train[:, 10])\n",
    "pred=fit.predict(train[:,0:10])\n",
    "#print('Random Forest Training Accuracy: ' + str(np.sum(np.sign(pred)==np.sign(train[:,10]))/len(pred)))\n",
    "print(np.sum(pred == train[:, 10]) / len(pred))\n",
    "pred=fit.predict(test[:,0:10])\n",
    "#print('Random Forest Test Accuracy: ' + str(np.sum(np.sign(pred)==np.sign(test[:,10]))/len(pred)))\n",
    "print(np.sum(pred == test[:, 10]) / len(pred))"
   ]
  },
  {
   "cell_type": "code",
   "execution_count": null,
   "metadata": {
    "collapsed": true
   },
   "outputs": [],
   "source": []
  }
 ],
 "metadata": {
  "kernelspec": {
   "display_name": "Python 3",
   "language": "python",
   "name": "python3"
  },
  "language_info": {
   "codemirror_mode": {
    "name": "ipython",
    "version": 3
   },
   "file_extension": ".py",
   "mimetype": "text/x-python",
   "name": "python",
   "nbconvert_exporter": "python",
   "pygments_lexer": "ipython3",
   "version": "3.6.0"
  }
 },
 "nbformat": 4,
 "nbformat_minor": 2
}
